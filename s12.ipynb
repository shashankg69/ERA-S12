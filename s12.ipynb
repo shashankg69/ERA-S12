{
 "cells": [
  {
   "cell_type": "code",
   "execution_count": 1,
   "metadata": {},
   "outputs": [
    {
     "name": "stderr",
     "output_type": "stream",
     "text": [
      "c:\\Users\\shash\\anaconda3\\lib\\site-packages\\torch_lr_finder\\lr_finder.py:5: TqdmExperimentalWarning: Using `tqdm.autonotebook.tqdm` in notebook mode. Use `tqdm.tqdm` instead to force console mode (e.g. in jupyter console)\n",
      "  from tqdm.autonotebook import tqdm\n",
      "c:\\Users\\shash\\anaconda3\\lib\\site-packages\\torchaudio\\backend\\utils.py:74: UserWarning: No audio backend is available.\n",
      "  warnings.warn(\"No audio backend is available.\")\n"
     ]
    },
    {
     "name": "stdout",
     "output_type": "stream",
     "text": [
      "Device Selected: cuda\n",
      "Requirement already satisfied: torchsummary in c:\\users\\shash\\anaconda3\\lib\\site-packages (1.5.1)\n",
      "Note: you may need to restart the kernel to use updated packages.\n"
     ]
    }
   ],
   "source": [
    "import torch\n",
    "import torch.optim as optim\n",
    "from torchvision import datasets, transforms\n",
    "import torch.nn as nn\n",
    "import torch.nn.functional as F\n",
    "from utils import *\n",
    "set_seed(42)\n",
    "from tqdm import tqdm\n",
    "%pip install torchsummary\n",
    "from torchsummary import summary\n",
    "\n",
    "import os\n",
    "os.environ['KMP_DUPLICATE_LIB_OK']='True'"
   ]
  },
  {
   "cell_type": "code",
   "execution_count": 2,
   "metadata": {},
   "outputs": [],
   "source": [
    "from Dataset import CIFAR10\n",
    "batch_size = 512\n",
    "cifar10 = CIFAR10(batch_size)"
   ]
  },
  {
   "cell_type": "code",
   "execution_count": 3,
   "metadata": {},
   "outputs": [
    {
     "name": "stderr",
     "output_type": "stream",
     "text": [
      "c:\\Users\\shash\\anaconda3\\lib\\site-packages\\lightning_fabric\\connector.py:554: UserWarning: 16 is supported for historical reasons but its usage is discouraged. Please set your precision to 16-mixed instead!\n",
      "  rank_zero_warn(\n",
      "Using 16bit Automatic Mixed Precision (AMP)\n",
      "Trainer already configured with model summary callbacks: [<class 'pytorch_lightning.callbacks.model_summary.ModelSummary'>]. Skipping setting a default `ModelSummary` callback.\n",
      "GPU available: True (cuda), used: True\n",
      "TPU available: False, using: 0 TPU cores\n",
      "IPU available: False, using: 0 IPUs\n",
      "HPU available: False, using: 0 HPUs\n",
      "c:\\Users\\shash\\anaconda3\\lib\\site-packages\\pytorch_lightning\\trainer\\connectors\\logger_connector\\logger_connector.py:67: UserWarning: Starting from v1.9.0, `tensorboardX` has been removed as a dependency of the `pytorch_lightning` package, due to potential conflicts with other packages in the ML ecosystem. For this reason, `logger=True` will use `CSVLogger` as the default logger, unless the `tensorboard` or `tensorboardX` packages are found. Please `pip install lightning[extra]` or one of them to enable TensorBoard support by default\n",
      "  warning_cache.warn(\n"
     ]
    }
   ],
   "source": [
    "from models.CustomResNet import CustomResNet\n",
    "from utils.runner import Runner\n",
    "model = CustomResNet(cifar10)\n",
    "exp = Runner(model, precision=16)"
   ]
  },
  {
   "cell_type": "code",
   "execution_count": 4,
   "metadata": {},
   "outputs": [
    {
     "name": "stdout",
     "output_type": "stream",
     "text": [
      "Files already downloaded and verified\n",
      "Files already downloaded and verified\n"
     ]
    },
    {
     "name": "stderr",
     "output_type": "stream",
     "text": [
      "LOCAL_RANK: 0 - CUDA_VISIBLE_DEVICES: [0]\n"
     ]
    },
    {
     "name": "stdout",
     "output_type": "stream",
     "text": [
      "Files already downloaded and verified\n"
     ]
    },
    {
     "data": {
      "application/vnd.jupyter.widget-view+json": {
       "model_id": "744de37b328149f2bfdc9ae9ce5311ff",
       "version_major": 2,
       "version_minor": 0
      },
      "text/plain": [
       "  0%|          | 0/100 [00:00<?, ?it/s]"
      ]
     },
     "metadata": {},
     "output_type": "display_data"
    },
    {
     "name": "stdout",
     "output_type": "stream",
     "text": [
      "Learning rate search finished. See the graph with {finder_name}.plot()\n",
      "LR suggestion: steepest gradient\n",
      "Suggested LR: 3.76E-04\n"
     ]
    },
    {
     "data": {
      "image/png": "[encoded data removed]",
      "text/plain": [
       "<Figure size 640x480 with 1 Axes>"
      ]
     },
     "metadata": {},
     "output_type": "display_data"
    },
    {
     "name": "stderr",
     "output_type": "stream",
     "text": [
      "\n",
      "   | Name                                    | Type             | Params\n",
      "------------------------------------------------------------------------------\n",
      "0  | layer_output                            | Sequential       | 6.6 M \n",
      "1  | layer_output.0                          | CustomLayer      | 1.9 K \n",
      "2  | layer_output.0.pool_block               | ConvLayer        | 1.9 K \n",
      "3  | layer_output.0.pool_block.all_layers    | Sequential       | 1.9 K \n",
      "4  | layer_output.0.pool_block.all_layers.0  | Conv2d           | 1.7 K \n",
      "5  | layer_output.0.pool_block.all_layers.1  | BatchNorm2d      | 128   \n",
      "6  | layer_output.0.pool_block.all_layers.2  | ReLU             | 0     \n",
      "7  | layer_output.0.pool_block.all_layers.3  | Dropout          | 0     \n",
      "8  | layer_output.1                          | CustomLayer      | 369 K \n",
      "9  | layer_output.1.pool_block               | ConvLayer        | 74.0 K\n",
      "10 | layer_output.1.pool_block.all_layers    | Sequential       | 74.0 K\n",
      "11 | layer_output.1.pool_block.all_layers.0  | Conv2d           | 73.7 K\n",
      "12 | layer_output.1.pool_block.all_layers.1  | MaxPool2d        | 0     \n",
      "13 | layer_output.1.pool_block.all_layers.2  | BatchNorm2d      | 256   \n",
      "14 | layer_output.1.pool_block.all_layers.3  | ReLU             | 0     \n",
      "15 | layer_output.1.pool_block.all_layers.4  | Dropout          | 0     \n",
      "16 | layer_output.1.res_block                | Sequential       | 295 K \n",
      "17 | layer_output.1.res_block.0              | ConvLayer        | 147 K \n",
      "18 | layer_output.1.res_block.0.all_layers   | Sequential       | 147 K \n",
      "19 | layer_output.1.res_block.0.all_layers.0 | Conv2d           | 147 K \n",
      "20 | layer_output.1.res_block.0.all_layers.1 | BatchNorm2d      | 256   \n",
      "21 | layer_output.1.res_block.0.all_layers.2 | ReLU             | 0     \n",
      "22 | layer_output.1.res_block.0.all_layers.3 | Dropout          | 0     \n",
      "23 | layer_output.1.res_block.1              | ConvLayer        | 147 K \n",
      "24 | layer_output.1.res_block.1.all_layers   | Sequential       | 147 K \n",
      "25 | layer_output.1.res_block.1.all_layers.0 | Conv2d           | 147 K \n",
      "26 | layer_output.1.res_block.1.all_layers.1 | BatchNorm2d      | 256   \n",
      "27 | layer_output.1.res_block.1.all_layers.2 | ReLU             | 0     \n",
      "28 | layer_output.1.res_block.1.all_layers.3 | Dropout          | 0     \n",
      "29 | layer_output.2                          | CustomLayer      | 295 K \n",
      "30 | layer_output.2.pool_block               | ConvLayer        | 295 K \n",
      "31 | layer_output.2.pool_block.all_layers    | Sequential       | 295 K \n",
      "32 | layer_output.2.pool_block.all_layers.0  | Conv2d           | 294 K \n",
      "33 | layer_output.2.pool_block.all_layers.1  | MaxPool2d        | 0     \n",
      "34 | layer_output.2.pool_block.all_layers.2  | BatchNorm2d      | 512   \n",
      "35 | layer_output.2.pool_block.all_layers.3  | ReLU             | 0     \n",
      "36 | layer_output.2.pool_block.all_layers.4  | Dropout          | 0     \n",
      "37 | layer_output.3                          | CustomLayer      | 5.9 M \n",
      "38 | layer_output.3.pool_block               | ConvLayer        | 1.2 M \n",
      "39 | layer_output.3.pool_block.all_layers    | Sequential       | 1.2 M \n",
      "40 | layer_output.3.pool_block.all_layers.0  | Conv2d           | 1.2 M \n",
      "41 | layer_output.3.pool_block.all_layers.1  | MaxPool2d        | 0     \n",
      "42 | layer_output.3.pool_block.all_layers.2  | BatchNorm2d      | 1.0 K \n",
      "43 | layer_output.3.pool_block.all_layers.3  | ReLU             | 0     \n",
      "44 | layer_output.3.pool_block.all_layers.4  | Dropout          | 0     \n",
      "45 | layer_output.3.res_block                | Sequential       | 4.7 M \n",
      "46 | layer_output.3.res_block.0              | ConvLayer        | 2.4 M \n",
      "47 | layer_output.3.res_block.0.all_layers   | Sequential       | 2.4 M \n",
      "48 | layer_output.3.res_block.0.all_layers.0 | Conv2d           | 2.4 M \n",
      "49 | layer_output.3.res_block.0.all_layers.1 | BatchNorm2d      | 1.0 K \n",
      "50 | layer_output.3.res_block.0.all_layers.2 | ReLU             | 0     \n",
      "51 | layer_output.3.res_block.0.all_layers.3 | Dropout          | 0     \n",
      "52 | layer_output.3.res_block.1              | ConvLayer        | 2.4 M \n",
      "53 | layer_output.3.res_block.1.all_layers   | Sequential       | 2.4 M \n",
      "54 | layer_output.3.res_block.1.all_layers.0 | Conv2d           | 2.4 M \n",
      "55 | layer_output.3.res_block.1.all_layers.1 | BatchNorm2d      | 1.0 K \n",
      "56 | layer_output.3.res_block.1.all_layers.2 | ReLU             | 0     \n",
      "57 | layer_output.3.res_block.1.all_layers.3 | Dropout          | 0     \n",
      "58 | layer_output.4                          | MaxPool2d        | 0     \n",
      "59 | layer_output.5                          | Flatten          | 0     \n",
      "60 | layer_output.6                          | Linear           | 5.1 K \n",
      "61 | criterion                               | CrossEntropyLoss | 0     \n",
      "62 | train_accuracy                          | Acc_Metric       | 0     \n",
      "63 | val_accuracy                            | Acc_Metric       | 0     \n",
      "64 | train_loss                              | MeanMetric       | 0     \n",
      "65 | val_loss                                | MeanMetric       | 0     \n",
      "------------------------------------------------------------------------------\n",
      "6.6 M     Trainable params\n",
      "0         Non-trainable params\n",
      "6.6 M     Total params\n",
      "26.293    Total estimated model params size (MB)\n"
     ]
    },
    {
     "data": {
      "application/vnd.jupyter.widget-view+json": {
       "model_id": "3b6b8764f07d42339b50793938e077fd",
       "version_major": 2,
       "version_minor": 0
      },
      "text/plain": [
       "Sanity Checking: 0it [00:00, ?it/s]"
      ]
     },
     "metadata": {},
     "output_type": "display_data"
    },
    {
     "name": "stdout",
     "output_type": "stream",
     "text": [
      "Files already downloaded and verified\n"
     ]
    },
    {
     "name": "stderr",
     "output_type": "stream",
     "text": [
      "c:\\Users\\shash\\anaconda3\\lib\\site-packages\\torchmetrics\\utilities\\prints.py:42: UserWarning: Encounted `nan` values in tensor. Will be removed.\n",
      "  warnings.warn(*args, **kwargs)  # noqa: B028\n"
     ]
    },
    {
     "name": "stdout",
     "output_type": "stream",
     "text": [
      "Epoch: 1, Validation_Loss: nan, Validation_Accuracy: 10.55\n"
     ]
    },
    {
     "name": "stderr",
     "output_type": "stream",
     "text": [
      "c:\\Users\\shash\\anaconda3\\lib\\site-packages\\torchmetrics\\utilities\\prints.py:42: UserWarning: The ``compute`` method of metric MeanMetric was called before the ``update`` method which may lead to errors, as metric states have not yet been updated.\n",
      "  warnings.warn(*args, **kwargs)  # noqa: B028\n",
      "c:\\Users\\shash\\anaconda3\\lib\\site-packages\\torchmetrics\\utilities\\prints.py:42: UserWarning: The ``compute`` method of metric Acc_Metric was called before the ``update`` method which may lead to errors, as metric states have not yet been updated.\n",
      "  warnings.warn(*args, **kwargs)  # noqa: B028\n"
     ]
    },
    {
     "data": {
      "application/vnd.jupyter.widget-view+json": {
       "model_id": "f4742360889a41428fd6e2a667755bde",
       "version_major": 2,
       "version_minor": 0
      },
      "text/plain": [
       "Training: 0it [00:00, ?it/s]"
      ]
     },
     "metadata": {},
     "output_type": "display_data"
    },
    {
     "name": "stderr",
     "output_type": "stream",
     "text": [
      "c:\\Users\\shash\\anaconda3\\lib\\site-packages\\torch\\optim\\lr_scheduler.py:139: UserWarning: Detected call of `lr_scheduler.step()` before `optimizer.step()`. In PyTorch 1.1.0 and later, you should call them in the opposite order: `optimizer.step()` before `lr_scheduler.step()`.  Failure to do this will result in PyTorch skipping the first value of the learning rate schedule. See more details at https://pytorch.org/docs/stable/optim.html#how-to-adjust-learning-rate\n",
      "  warnings.warn(\"Detected call of `lr_scheduler.step()` before `optimizer.step()`. \"\n"
     ]
    },
    {
     "data": {
      "application/vnd.jupyter.widget-view+json": {
       "model_id": "bcb1588410b54154ad4d4c1f819872a6",
       "version_major": 2,
       "version_minor": 0
      },
      "text/plain": [
       "Validation: 0it [00:00, ?it/s]"
      ]
     },
     "metadata": {},
     "output_type": "display_data"
    },
    {
     "name": "stdout",
     "output_type": "stream",
     "text": [
      "Epoch: 1, Validation_Loss: nan, Validation_Accuracy: 10.00\n",
      "Epoch: 1, Training_Loss: nan, Training_Accuracy: 10.00\n"
     ]
    },
    {
     "name": "stderr",
     "output_type": "stream",
     "text": [
      "c:\\Users\\shash\\anaconda3\\lib\\site-packages\\pytorch_lightning\\trainer\\call.py:52: UserWarning: Detected KeyboardInterrupt, attempting graceful shutdown...\n",
      "  rank_zero_warn(\"Detected KeyboardInterrupt, attempting graceful shutdown...\")\n",
      "Exception ignored in: <function _MultiProcessingDataLoaderIter.__del__ at 0x0000020F271B2820>\n",
      "Traceback (most recent call last):\n",
      "  File \"c:\\Users\\shash\\anaconda3\\lib\\site-packages\\torch\\utils\\data\\dataloader.py\", line 1478, in __del__\n",
      "    self._shutdown_workers()\n",
      "  File \"c:\\Users\\shash\\anaconda3\\lib\\site-packages\\torch\\utils\\data\\dataloader.py\", line 1436, in _shutdown_workers\n",
      "    if self._persistent_workers or self._workers_status[worker_id]:\n",
      "AttributeError: '_MultiProcessingDataLoaderIter' object has no attribute '_workers_status'\n"
     ]
    }
   ],
   "source": [
    "exp.run()"
   ]
  }
 ],
 "metadata": {
  "kernelspec": {
   "display_name": "new-env",
   "language": "python",
   "name": "python3"
  },
  "language_info": {
   "codemirror_mode": {
    "name": "ipython",
    "version": 3
   },
   "file_extension": ".py",
   "mimetype": "text/x-python",
   "name": "python",
   "nbconvert_exporter": "python",
   "pygments_lexer": "ipython3",
   "version": "3.9.17"
  },
  "orig_nbformat": 4
 },
 "nbformat": 4,
 "nbformat_minor": 2
}
